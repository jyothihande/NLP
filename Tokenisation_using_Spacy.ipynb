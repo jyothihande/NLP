{
 "cells": [
  {
   "cell_type": "code",
   "execution_count": 1,
   "id": "36e84788",
   "metadata": {},
   "outputs": [],
   "source": [
    "import spacy #import required library"
   ]
  },
  {
   "cell_type": "markdown",
   "id": "f099f537",
   "metadata": {},
   "source": [
    "# SENTENCE TOKENISATION:"
   ]
  },
  {
   "cell_type": "code",
   "execution_count": 2,
   "id": "e1298066",
   "metadata": {},
   "outputs": [],
   "source": [
    "nlp = spacy.load('en_core_web_sm')"
   ]
  },
  {
   "cell_type": "code",
   "execution_count": 3,
   "id": "580aec04",
   "metadata": {},
   "outputs": [
    {
     "name": "stdout",
     "output_type": "stream",
     "text": [
      "Mr. and Mrs. sharma are doctors.\n",
      "They like dosa,idli,juice etc.they just love eating.\n"
     ]
    }
   ],
   "source": [
    "doc = nlp(\"Mr. and Mrs. sharma are doctors.They like dosa,idli,juice etc.they just love eating.\")\n",
    "for sentence in doc.sents:  # split whole lines accurately #object has property called sents.\n",
    "    print(sentence)"
   ]
  },
  {
   "cell_type": "markdown",
   "id": "16ecf8f0",
   "metadata": {},
   "source": [
    "# WORDS TOKENISATION : "
   ]
  },
  {
   "cell_type": "code",
   "execution_count": 4,
   "id": "0e8b7b6f",
   "metadata": {},
   "outputs": [
    {
     "name": "stdout",
     "output_type": "stream",
     "text": [
      "Mr.\n",
      "and\n",
      "Mrs.\n",
      "Sharma\n",
      "are\n",
      "on\n",
      "holidays\n",
      "for\n",
      "10\n",
      "days\n",
      ".\n",
      "You\n",
      "have\n",
      "to\n",
      "wait\n",
      "for\n",
      "them\n",
      "to\n",
      "return\n",
      ".\n"
     ]
    }
   ],
   "source": [
    "doc = nlp(\"Mr. and Mrs. Sharma are on holidays for 10 days.You have to wait for them to return.\") # doc is object created\n",
    "for sentence in doc.sents:# split whole lines accurately #object has property called sents.\n",
    "    for words in sentence:\n",
    "        print(words)"
   ]
  },
  {
   "cell_type": "code",
   "execution_count": 5,
   "id": "cfe4c46e",
   "metadata": {},
   "outputs": [],
   "source": [
    "nlp = spacy.blank(\"en\") #create nlp as object which understands (en is) engish language from spacy language model"
   ]
  },
  {
   "cell_type": "code",
   "execution_count": 6,
   "id": "742d4a40",
   "metadata": {},
   "outputs": [],
   "source": [
    "doc = nlp(\"Mr. and Mrs. sharma are doctors.They bought dosa,idli,juice etc. for 5$, they just love eating.\")"
   ]
  },
  {
   "cell_type": "code",
   "execution_count": 7,
   "id": "725422b0",
   "metadata": {},
   "outputs": [],
   "source": [
    "#word tokenisation:"
   ]
  },
  {
   "cell_type": "code",
   "execution_count": 8,
   "id": "aa04b462",
   "metadata": {},
   "outputs": [
    {
     "name": "stdout",
     "output_type": "stream",
     "text": [
      "Mr.\n",
      "and\n",
      "Mrs.\n",
      "sharma\n",
      "are\n",
      "doctors\n",
      ".\n",
      "They\n",
      "bought\n",
      "dosa\n",
      ",\n",
      "idli\n",
      ",\n",
      "juice\n",
      "etc\n",
      ".\n",
      "for\n",
      "5\n",
      "$\n",
      ",\n",
      "they\n",
      "just\n",
      "love\n",
      "eating\n",
      ".\n"
     ]
    }
   ],
   "source": [
    "for token in doc:\n",
    "    print(token)"
   ]
  },
  {
   "cell_type": "code",
   "execution_count": 9,
   "id": "6cf5509c",
   "metadata": {},
   "outputs": [
    {
     "data": {
      "text/plain": [
       "Mr."
      ]
     },
     "execution_count": 9,
     "metadata": {},
     "output_type": "execute_result"
    }
   ],
   "source": [
    "doc[0]"
   ]
  },
  {
   "cell_type": "code",
   "execution_count": 10,
   "id": "3e3be9de",
   "metadata": {},
   "outputs": [
    {
     "data": {
      "text/plain": [
       "."
      ]
     },
     "execution_count": 10,
     "metadata": {},
     "output_type": "execute_result"
    }
   ],
   "source": [
    "doc[-1]"
   ]
  },
  {
   "cell_type": "code",
   "execution_count": 11,
   "id": "ffbc57b3",
   "metadata": {},
   "outputs": [
    {
     "name": "stdout",
     "output_type": "stream",
     "text": [
      "Let\n",
      "'s\n",
      "go\n",
      "to\n",
      "N.Y.\n",
      "!\n"
     ]
    }
   ],
   "source": [
    "doc = nlp(\"Let's go to N.Y.!\")\n",
    "for token in doc:\n",
    "    print(token)"
   ]
  },
  {
   "cell_type": "code",
   "execution_count": 12,
   "id": "3b08d58c",
   "metadata": {},
   "outputs": [
    {
     "name": "stdout",
     "output_type": "stream",
     "text": [
      "\"\n",
      "Let\n",
      "'s\n",
      "go\n",
      "to\n",
      "N.Y.\n",
      "!\n",
      "\"\n"
     ]
    }
   ],
   "source": [
    "doc = nlp('''\"Let's go to N.Y.!\"''')\n",
    "for token in doc:\n",
    "    print(token)"
   ]
  },
  {
   "cell_type": "code",
   "execution_count": 13,
   "id": "cf2672d6",
   "metadata": {},
   "outputs": [
    {
     "data": {
      "text/plain": [
       "spacy.lang.en.English"
      ]
     },
     "execution_count": 13,
     "metadata": {},
     "output_type": "execute_result"
    }
   ],
   "source": [
    "type(nlp) # nlp is object of english language"
   ]
  },
  {
   "cell_type": "code",
   "execution_count": 14,
   "id": "022a2e6a",
   "metadata": {},
   "outputs": [
    {
     "data": {
      "text/plain": [
       "spacy.tokens.doc.Doc"
      ]
     },
     "execution_count": 14,
     "metadata": {},
     "output_type": "execute_result"
    }
   ],
   "source": [
    "type(doc) # doc is object of doc"
   ]
  },
  {
   "cell_type": "code",
   "execution_count": 15,
   "id": "3e16eb0e",
   "metadata": {},
   "outputs": [
    {
     "data": {
      "text/plain": [
       "\"Let's go to"
      ]
     },
     "execution_count": 15,
     "metadata": {},
     "output_type": "execute_result"
    }
   ],
   "source": [
    "doc[0:5]"
   ]
  },
  {
   "cell_type": "markdown",
   "id": "2aaf2c89",
   "metadata": {},
   "source": [
    "# Token Attributes"
   ]
  },
  {
   "cell_type": "code",
   "execution_count": 16,
   "id": "e8f89a19",
   "metadata": {},
   "outputs": [],
   "source": [
    "doc = nlp(\"I gave two $ to my mom.\")"
   ]
  },
  {
   "cell_type": "code",
   "execution_count": 17,
   "id": "112c268b",
   "metadata": {},
   "outputs": [],
   "source": [
    "token0=doc[0]"
   ]
  },
  {
   "cell_type": "code",
   "execution_count": 18,
   "id": "d34cf3a3",
   "metadata": {},
   "outputs": [
    {
     "data": {
      "text/plain": [
       "I"
      ]
     },
     "execution_count": 18,
     "metadata": {},
     "output_type": "execute_result"
    }
   ],
   "source": [
    "token0"
   ]
  },
  {
   "cell_type": "code",
   "execution_count": 19,
   "id": "5368df91",
   "metadata": {},
   "outputs": [
    {
     "data": {
      "text/plain": [
       "spacy.tokens.token.Token"
      ]
     },
     "execution_count": 19,
     "metadata": {},
     "output_type": "execute_result"
    }
   ],
   "source": [
    "type(token0) # token 0 is object of class token"
   ]
  },
  {
   "cell_type": "code",
   "execution_count": 20,
   "id": "d3397647",
   "metadata": {},
   "outputs": [
    {
     "data": {
      "text/plain": [
       "['_',\n",
       " '__bytes__',\n",
       " '__class__',\n",
       " '__delattr__',\n",
       " '__dir__',\n",
       " '__doc__',\n",
       " '__eq__',\n",
       " '__format__',\n",
       " '__ge__',\n",
       " '__getattribute__',\n",
       " '__getstate__',\n",
       " '__gt__',\n",
       " '__hash__',\n",
       " '__init__',\n",
       " '__init_subclass__',\n",
       " '__le__',\n",
       " '__len__',\n",
       " '__lt__',\n",
       " '__ne__',\n",
       " '__new__',\n",
       " '__pyx_vtable__',\n",
       " '__reduce__',\n",
       " '__reduce_ex__',\n",
       " '__repr__',\n",
       " '__setattr__',\n",
       " '__sizeof__',\n",
       " '__str__',\n",
       " '__subclasshook__',\n",
       " '__unicode__',\n",
       " 'ancestors',\n",
       " 'check_flag',\n",
       " 'children',\n",
       " 'cluster',\n",
       " 'conjuncts',\n",
       " 'dep',\n",
       " 'dep_',\n",
       " 'doc',\n",
       " 'ent_id',\n",
       " 'ent_id_',\n",
       " 'ent_iob',\n",
       " 'ent_iob_',\n",
       " 'ent_kb_id',\n",
       " 'ent_kb_id_',\n",
       " 'ent_type',\n",
       " 'ent_type_',\n",
       " 'get_extension',\n",
       " 'has_dep',\n",
       " 'has_extension',\n",
       " 'has_head',\n",
       " 'has_morph',\n",
       " 'has_vector',\n",
       " 'head',\n",
       " 'i',\n",
       " 'idx',\n",
       " 'iob_strings',\n",
       " 'is_alpha',\n",
       " 'is_ancestor',\n",
       " 'is_ascii',\n",
       " 'is_bracket',\n",
       " 'is_currency',\n",
       " 'is_digit',\n",
       " 'is_left_punct',\n",
       " 'is_lower',\n",
       " 'is_oov',\n",
       " 'is_punct',\n",
       " 'is_quote',\n",
       " 'is_right_punct',\n",
       " 'is_sent_end',\n",
       " 'is_sent_start',\n",
       " 'is_space',\n",
       " 'is_stop',\n",
       " 'is_title',\n",
       " 'is_upper',\n",
       " 'lang',\n",
       " 'lang_',\n",
       " 'left_edge',\n",
       " 'lefts',\n",
       " 'lemma',\n",
       " 'lemma_',\n",
       " 'lex',\n",
       " 'lex_id',\n",
       " 'like_email',\n",
       " 'like_num',\n",
       " 'like_url',\n",
       " 'lower',\n",
       " 'lower_',\n",
       " 'morph',\n",
       " 'n_lefts',\n",
       " 'n_rights',\n",
       " 'nbor',\n",
       " 'norm',\n",
       " 'norm_',\n",
       " 'orth',\n",
       " 'orth_',\n",
       " 'pos',\n",
       " 'pos_',\n",
       " 'prefix',\n",
       " 'prefix_',\n",
       " 'prob',\n",
       " 'rank',\n",
       " 'remove_extension',\n",
       " 'right_edge',\n",
       " 'rights',\n",
       " 'sent',\n",
       " 'sent_start',\n",
       " 'sentiment',\n",
       " 'set_extension',\n",
       " 'set_morph',\n",
       " 'shape',\n",
       " 'shape_',\n",
       " 'similarity',\n",
       " 'subtree',\n",
       " 'suffix',\n",
       " 'suffix_',\n",
       " 'tag',\n",
       " 'tag_',\n",
       " 'tensor',\n",
       " 'text',\n",
       " 'text_with_ws',\n",
       " 'vector',\n",
       " 'vector_norm',\n",
       " 'vocab',\n",
       " 'whitespace_']"
      ]
     },
     "execution_count": 20,
     "metadata": {},
     "output_type": "execute_result"
    }
   ],
   "source": [
    "dir(token0) # these are methods of class token"
   ]
  },
  {
   "cell_type": "code",
   "execution_count": 21,
   "id": "aa945a32",
   "metadata": {},
   "outputs": [
    {
     "data": {
      "text/plain": [
       "True"
      ]
     },
     "execution_count": 21,
     "metadata": {},
     "output_type": "execute_result"
    }
   ],
   "source": [
    "token0.is_upper"
   ]
  },
  {
   "cell_type": "code",
   "execution_count": 22,
   "id": "07cf9d47",
   "metadata": {},
   "outputs": [
    {
     "data": {
      "text/plain": [
       "True"
      ]
     },
     "execution_count": 22,
     "metadata": {},
     "output_type": "execute_result"
    }
   ],
   "source": [
    "token0.is_alpha"
   ]
  },
  {
   "cell_type": "code",
   "execution_count": 23,
   "id": "a75e8798",
   "metadata": {},
   "outputs": [
    {
     "data": {
      "text/plain": [
       "<function Token.is_ancestor>"
      ]
     },
     "execution_count": 23,
     "metadata": {},
     "output_type": "execute_result"
    }
   ],
   "source": [
    "token0.is_ancestor"
   ]
  },
  {
   "cell_type": "code",
   "execution_count": 24,
   "id": "b38ec5f7",
   "metadata": {},
   "outputs": [
    {
     "data": {
      "text/plain": [
       "False"
      ]
     },
     "execution_count": 24,
     "metadata": {},
     "output_type": "execute_result"
    }
   ],
   "source": [
    "token0.is_currency"
   ]
  },
  {
   "cell_type": "code",
   "execution_count": 25,
   "id": "69502585",
   "metadata": {},
   "outputs": [
    {
     "data": {
      "text/plain": [
       "False"
      ]
     },
     "execution_count": 25,
     "metadata": {},
     "output_type": "execute_result"
    }
   ],
   "source": [
    "token0.is_digit"
   ]
  },
  {
   "cell_type": "code",
   "execution_count": 26,
   "id": "bd48e914",
   "metadata": {},
   "outputs": [
    {
     "data": {
      "text/plain": [
       "False"
      ]
     },
     "execution_count": 26,
     "metadata": {},
     "output_type": "execute_result"
    }
   ],
   "source": [
    "token0.is_quote"
   ]
  },
  {
   "cell_type": "code",
   "execution_count": 27,
   "id": "b47a3a5d",
   "metadata": {},
   "outputs": [],
   "source": [
    "# word in a sentence 'two'"
   ]
  },
  {
   "cell_type": "code",
   "execution_count": 28,
   "id": "7b07e862",
   "metadata": {},
   "outputs": [
    {
     "data": {
      "text/plain": [
       "two"
      ]
     },
     "execution_count": 28,
     "metadata": {},
     "output_type": "execute_result"
    }
   ],
   "source": [
    "token1=doc[2]\n",
    "token1"
   ]
  },
  {
   "cell_type": "code",
   "execution_count": 29,
   "id": "fddd3d89",
   "metadata": {},
   "outputs": [
    {
     "data": {
      "text/plain": [
       "False"
      ]
     },
     "execution_count": 29,
     "metadata": {},
     "output_type": "execute_result"
    }
   ],
   "source": [
    "token1.is_digit"
   ]
  },
  {
   "cell_type": "code",
   "execution_count": 30,
   "id": "65354de4",
   "metadata": {},
   "outputs": [
    {
     "data": {
      "text/plain": [
       "True"
      ]
     },
     "execution_count": 30,
     "metadata": {},
     "output_type": "execute_result"
    }
   ],
   "source": [
    "token1.like_num"
   ]
  },
  {
   "cell_type": "code",
   "execution_count": 31,
   "id": "30181171",
   "metadata": {},
   "outputs": [
    {
     "data": {
      "text/plain": [
       "False"
      ]
     },
     "execution_count": 31,
     "metadata": {},
     "output_type": "execute_result"
    }
   ],
   "source": [
    "token1.is_currency"
   ]
  },
  {
   "cell_type": "code",
   "execution_count": 32,
   "id": "c9a1f84f",
   "metadata": {},
   "outputs": [
    {
     "data": {
      "text/plain": [
       "True"
      ]
     },
     "execution_count": 32,
     "metadata": {},
     "output_type": "execute_result"
    }
   ],
   "source": [
    "token1.is_alpha"
   ]
  },
  {
   "cell_type": "code",
   "execution_count": 33,
   "id": "589d1722",
   "metadata": {},
   "outputs": [],
   "source": [
    "# for $ dollor symbol in a sentence"
   ]
  },
  {
   "cell_type": "code",
   "execution_count": 34,
   "id": "c1e014e9",
   "metadata": {},
   "outputs": [
    {
     "data": {
      "text/plain": [
       "$"
      ]
     },
     "execution_count": 34,
     "metadata": {},
     "output_type": "execute_result"
    }
   ],
   "source": [
    "token2=doc[3]\n",
    "token2"
   ]
  },
  {
   "cell_type": "code",
   "execution_count": 35,
   "id": "83324498",
   "metadata": {},
   "outputs": [
    {
     "data": {
      "text/plain": [
       "True"
      ]
     },
     "execution_count": 35,
     "metadata": {},
     "output_type": "execute_result"
    }
   ],
   "source": [
    "token2.is_currency"
   ]
  },
  {
   "cell_type": "code",
   "execution_count": 36,
   "id": "f0f71ac4",
   "metadata": {},
   "outputs": [
    {
     "data": {
      "text/plain": [
       "False"
      ]
     },
     "execution_count": 36,
     "metadata": {},
     "output_type": "execute_result"
    }
   ],
   "source": [
    "token2.is_digit"
   ]
  },
  {
   "cell_type": "code",
   "execution_count": 37,
   "id": "6aa05e11",
   "metadata": {},
   "outputs": [
    {
     "data": {
      "text/plain": [
       "False"
      ]
     },
     "execution_count": 37,
     "metadata": {},
     "output_type": "execute_result"
    }
   ],
   "source": [
    "token2.is_lower"
   ]
  },
  {
   "cell_type": "code",
   "execution_count": 38,
   "id": "07a8308b",
   "metadata": {},
   "outputs": [
    {
     "data": {
      "text/plain": [
       "False"
      ]
     },
     "execution_count": 38,
     "metadata": {},
     "output_type": "execute_result"
    }
   ],
   "source": [
    "token2.like_num"
   ]
  },
  {
   "cell_type": "code",
   "execution_count": 39,
   "id": "380bef88",
   "metadata": {},
   "outputs": [],
   "source": [
    "# \" . \" full stop symbol of a string"
   ]
  },
  {
   "cell_type": "code",
   "execution_count": 40,
   "id": "c7acd1ec",
   "metadata": {},
   "outputs": [
    {
     "data": {
      "text/plain": [
       "."
      ]
     },
     "execution_count": 40,
     "metadata": {},
     "output_type": "execute_result"
    }
   ],
   "source": [
    "token3=doc[-1]\n",
    "token3"
   ]
  },
  {
   "cell_type": "code",
   "execution_count": 41,
   "id": "1f110691",
   "metadata": {},
   "outputs": [
    {
     "data": {
      "text/plain": [
       "True"
      ]
     },
     "execution_count": 41,
     "metadata": {},
     "output_type": "execute_result"
    }
   ],
   "source": [
    "token3.is_punct"
   ]
  },
  {
   "cell_type": "code",
   "execution_count": 42,
   "id": "2b4ae456",
   "metadata": {},
   "outputs": [
    {
     "data": {
      "text/plain": [
       "True"
      ]
     },
     "execution_count": 42,
     "metadata": {},
     "output_type": "execute_result"
    }
   ],
   "source": [
    "token3.is_ascii"
   ]
  },
  {
   "cell_type": "code",
   "execution_count": 43,
   "id": "90916bea",
   "metadata": {},
   "outputs": [
    {
     "data": {
      "text/plain": [
       "False"
      ]
     },
     "execution_count": 43,
     "metadata": {},
     "output_type": "execute_result"
    }
   ],
   "source": [
    "token3.is_stop"
   ]
  },
  {
   "cell_type": "code",
   "execution_count": 44,
   "id": "ecfea31d",
   "metadata": {},
   "outputs": [
    {
     "data": {
      "text/plain": [
       "True"
      ]
     },
     "execution_count": 44,
     "metadata": {},
     "output_type": "execute_result"
    }
   ],
   "source": [
    "token3.is_sent_end"
   ]
  },
  {
   "cell_type": "markdown",
   "id": "1a3e71dd",
   "metadata": {},
   "source": [
    "# A Function to show attributes of token:"
   ]
  },
  {
   "cell_type": "code",
   "execution_count": 45,
   "id": "04e91460",
   "metadata": {},
   "outputs": [
    {
     "name": "stdout",
     "output_type": "stream",
     "text": [
      "I ==> index: 0 is_alpha: True is_punct False like_num: False is_currency: False\n",
      "gave ==> index: 1 is_alpha: True is_punct False like_num: False is_currency: False\n",
      "two ==> index: 2 is_alpha: True is_punct False like_num: True is_currency: False\n",
      "$ ==> index: 3 is_alpha: False is_punct False like_num: False is_currency: True\n",
      "to ==> index: 4 is_alpha: True is_punct False like_num: False is_currency: False\n",
      "my ==> index: 5 is_alpha: True is_punct False like_num: False is_currency: False\n",
      "mom ==> index: 6 is_alpha: True is_punct False like_num: False is_currency: False\n",
      ". ==> index: 7 is_alpha: False is_punct True like_num: False is_currency: False\n"
     ]
    }
   ],
   "source": [
    "for token in doc:\n",
    "    print(token,'==>','index:',token.i,\"is_alpha:\",token.is_alpha,\n",
    "          \"is_punct\",token.is_punct,\n",
    "          \"like_num:\",token.like_num,\n",
    "          \"is_currency:\",token.is_currency)"
   ]
  },
  {
   "cell_type": "markdown",
   "id": "94a35d70",
   "metadata": {},
   "source": [
    "# How to extract email from text using Spacy?"
   ]
  },
  {
   "cell_type": "code",
   "execution_count": 53,
   "id": "5fbffd20",
   "metadata": {},
   "outputs": [],
   "source": [
    "text=\"List of students with email ID.rahul email: rahulK298@gmail.com . geni email: geni154@yahoo.com . yash email: Yashkumar11@gmail.com\""
   ]
  },
  {
   "cell_type": "code",
   "execution_count": 54,
   "id": "6111f481",
   "metadata": {},
   "outputs": [],
   "source": [
    "doc = nlp(text)"
   ]
  },
  {
   "cell_type": "code",
   "execution_count": 55,
   "id": "3d75690d",
   "metadata": {},
   "outputs": [
    {
     "name": "stdout",
     "output_type": "stream",
     "text": [
      "rahulK298@gmail.com\n",
      "geni154@yahoo.com\n",
      "Yashkumar11@gmail.com\n"
     ]
    }
   ],
   "source": [
    "for token in doc:\n",
    "    if token.like_email:\n",
    "        print(token)"
   ]
  },
  {
   "cell_type": "code",
   "execution_count": 56,
   "id": "b35f2a51",
   "metadata": {},
   "outputs": [
    {
     "data": {
      "text/plain": [
       "['rahulK298@gmail.com', 'geni154@yahoo.com', 'Yashkumar11@gmail.com']"
      ]
     },
     "execution_count": 56,
     "metadata": {},
     "output_type": "execute_result"
    }
   ],
   "source": [
    "emails=[] # an array to store all emails\n",
    "for token in doc:\n",
    "    if token.like_email:\n",
    "        emails.append(token.text) # append method \n",
    "emails"
   ]
  },
  {
   "cell_type": "markdown",
   "id": "d927331a",
   "metadata": {},
   "source": [
    "# Tokenisation using HINDI Language:"
   ]
  },
  {
   "cell_type": "code",
   "execution_count": 57,
   "id": "ec4caae7",
   "metadata": {},
   "outputs": [],
   "source": [
    "nlp = spacy.blank(\"hi\")"
   ]
  },
  {
   "cell_type": "code",
   "execution_count": 74,
   "id": "4295c766",
   "metadata": {},
   "outputs": [
    {
     "name": "stdout",
     "output_type": "stream",
     "text": [
      "जैसे True None False False\n",
      "- None None True False\n",
      "तुम None None False False\n",
      "वहाँ None None False False\n",
      "क्यों None None False False\n",
      "जाया None None False False\n",
      "करते None None False False\n",
      "हो None None False False\n",
      "200 None None False False\n",
      "$ None None False True\n",
      "? None True True False\n"
     ]
    }
   ],
   "source": [
    "doc = nlp(\"जैसे-तुम वहाँ क्यों जाया करते हो 200$ ?\")\n",
    "for token in doc:\n",
    "    print(token ,token.is_sent_start, token.is_sent_end, token.is_punct,token.is_currency)"
   ]
  },
  {
   "cell_type": "markdown",
   "id": "4b041b73",
   "metadata": {},
   "source": [
    "# Customize tokenisation rule:"
   ]
  },
  {
   "cell_type": "code",
   "execution_count": 78,
   "id": "f7c6be16",
   "metadata": {},
   "outputs": [],
   "source": [
    "doc = nlp(\"hey! what's up ! How are you ?\")"
   ]
  },
  {
   "cell_type": "code",
   "execution_count": 79,
   "id": "7f93dec0",
   "metadata": {},
   "outputs": [
    {
     "data": {
      "text/plain": [
       "['hey', '!', 'what', \"'s\", 'up', '!', 'How', 'are', 'you', '?']"
      ]
     },
     "execution_count": 79,
     "metadata": {},
     "output_type": "execute_result"
    }
   ],
   "source": [
    "tokens = [token.text for token in doc]\n",
    "tokens"
   ]
  },
  {
   "cell_type": "code",
   "execution_count": 80,
   "id": "76a94807",
   "metadata": {},
   "outputs": [
    {
     "name": "stdout",
     "output_type": "stream",
     "text": [
      "hey\n",
      "!\n",
      "what\n",
      "'s\n",
      "up\n",
      "!\n",
      "How\n",
      "are\n",
      "you\n",
      "?\n"
     ]
    }
   ],
   "source": [
    "for token in doc:\n",
    "    print(token)"
   ]
  },
  {
   "cell_type": "code",
   "execution_count": 99,
   "id": "9eb24603",
   "metadata": {},
   "outputs": [
    {
     "data": {
      "text/plain": [
       "['hey', '!', 'what', 'is', 'up', '!', 'How', 'are', 'you', '?']"
      ]
     },
     "execution_count": 99,
     "metadata": {},
     "output_type": "execute_result"
    }
   ],
   "source": [
    "from spacy.symbols import ORTH\n",
    "\n",
    "nlp.tokenizer.add_special_case(\"whatis\",[{ORTH: \"what\"},{ORTH: \"is\"}])\n",
    "# splits whole word into segments only nothing else changes can be made.\n",
    "doc = nlp(\"hey! whatis up ! How are you ?\")\n",
    "\n",
    "tokens = [token.text for token in doc]\n",
    "tokens"
   ]
  },
  {
   "cell_type": "markdown",
   "id": "f111cd15",
   "metadata": {},
   "source": [
    "# Sentence Tokenisation(segmentation):"
   ]
  },
  {
   "cell_type": "code",
   "execution_count": 107,
   "id": "858a2737",
   "metadata": {},
   "outputs": [
    {
     "data": {
      "text/plain": [
       "<spacy.pipeline.sentencizer.Sentencizer at 0x26d85ab6790>"
      ]
     },
     "execution_count": 107,
     "metadata": {},
     "output_type": "execute_result"
    }
   ],
   "source": [
    "nlp.add_pipe('sentencizer') # nlp object knows how to split paragraph into sentences."
   ]
  },
  {
   "cell_type": "code",
   "execution_count": 108,
   "id": "39a6dc1d",
   "metadata": {},
   "outputs": [
    {
     "data": {
      "text/plain": [
       "['sentencizer']"
      ]
     },
     "execution_count": 108,
     "metadata": {},
     "output_type": "execute_result"
    }
   ],
   "source": [
    "nlp.pipe_names"
   ]
  },
  {
   "cell_type": "code",
   "execution_count": 110,
   "id": "30e3f5d0",
   "metadata": {},
   "outputs": [
    {
     "name": "stdout",
     "output_type": "stream",
     "text": [
      "Mr.\n",
      "and Mrs.\n",
      "sharma are doctors.\n",
      "They like dosa,idli,juice etc.they just love eating.\n"
     ]
    }
   ],
   "source": [
    "doc = nlp(\"Mr. and Mrs. sharma are doctors.They like dosa,idli,juice etc.they just love eating.\")\n",
    "for sentence in doc.sents:  # split whole lines accurately #object has property called sents.\n",
    "    print(sentence)"
   ]
  },
  {
   "cell_type": "code",
   "execution_count": 112,
   "id": "5cafbfb4",
   "metadata": {},
   "outputs": [
    {
     "name": "stdout",
     "output_type": "stream",
     "text": [
      "Gulab jamun ko aksar festivals,special occasions.\n",
      "aur celebrations par serve kiya jata hai.\n"
     ]
    }
   ],
   "source": [
    "doc = nlp (\"Gulab jamun ko aksar festivals,special occasions. aur celebrations par serve kiya jata hai.\")\n",
    "for sentence in doc.sents:\n",
    "    print(sentence)"
   ]
  },
  {
   "cell_type": "code",
   "execution_count": null,
   "id": "bf1038c7",
   "metadata": {},
   "outputs": [],
   "source": []
  },
  {
   "cell_type": "code",
   "execution_count": null,
   "id": "61a96695",
   "metadata": {},
   "outputs": [],
   "source": []
  }
 ],
 "metadata": {
  "kernelspec": {
   "display_name": "Python 3 (ipykernel)",
   "language": "python",
   "name": "python3"
  },
  "language_info": {
   "codemirror_mode": {
    "name": "ipython",
    "version": 3
   },
   "file_extension": ".py",
   "mimetype": "text/x-python",
   "name": "python",
   "nbconvert_exporter": "python",
   "pygments_lexer": "ipython3",
   "version": "3.11.4"
  }
 },
 "nbformat": 4,
 "nbformat_minor": 5
}
