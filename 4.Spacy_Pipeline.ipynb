{
 "cells": [
  {
   "cell_type": "markdown",
   "id": "4635bec3",
   "metadata": {},
   "source": [
    "# SPACY : Language Processing Pipeline"
   ]
  },
  {
   "cell_type": "code",
   "execution_count": 1,
   "id": "cd0a8263",
   "metadata": {},
   "outputs": [],
   "source": [
    "import spacy"
   ]
  },
  {
   "cell_type": "code",
   "execution_count": 2,
   "id": "14c4e00f",
   "metadata": {},
   "outputs": [],
   "source": [
    "nlp = spacy.blank(\"en\") #blank language processing pipeline\n",
    "#create nlp as object which understands (en is) engish language from spacy language model"
   ]
  },
  {
   "cell_type": "code",
   "execution_count": 3,
   "id": "0baa15a7",
   "metadata": {},
   "outputs": [
    {
     "name": "stdout",
     "output_type": "stream",
     "text": [
      "Mr.  |    |  \n",
      "and  |    |  \n",
      "Mrs.  |    |  \n",
      "sharma  |    |  \n",
      "are  |    |  \n",
      "doctors  |    |  \n",
      ".  |    |  \n",
      "They  |    |  \n",
      "bought  |    |  \n",
      "dosa  |    |  \n",
      ",  |    |  \n",
      "idli  |    |  \n",
      ",  |    |  \n",
      "juice  |    |  \n",
      "etc  |    |  \n",
      ".  |    |  \n",
      "for  |    |  \n",
      "5  |    |  \n",
      "$  |    |  \n",
      ",  |    |  \n",
      "they  |    |  \n",
      "just  |    |  \n",
      "love  |    |  \n",
      "eating  |    |  \n",
      ".  |    |  \n"
     ]
    }
   ],
   "source": [
    "doc = nlp(\"Mr. and Mrs. sharma are doctors.They bought dosa,idli,juice etc. for 5$, they just love eating.\")\n",
    "for token in doc:\n",
    "    print(token,\" | \",token.pos_,' | ',token.lemma_) # blank so wont return anything\n",
    "    # using tokeniser we get components by default blank pipeline"
   ]
  },
  {
   "cell_type": "code",
   "execution_count": 4,
   "id": "66ff4b21",
   "metadata": {},
   "outputs": [
    {
     "data": {
      "text/plain": [
       "[]"
      ]
     },
     "execution_count": 4,
     "metadata": {},
     "output_type": "execute_result"
    }
   ],
   "source": [
    "nlp.pipe_names # blank array is blank components which has nothing"
   ]
  },
  {
   "cell_type": "markdown",
   "id": "52e74c9c",
   "metadata": {},
   "source": [
    "# USE of Pre trained components Pipeline:"
   ]
  },
  {
   "cell_type": "markdown",
   "id": "cded902b",
   "metadata": {},
   "source": [
    "In Spacy Documentation there are pre trained pipeline for each various languages  such as english, frence, chinese, german etc.\n",
    "install command for each required language"
   ]
  },
  {
   "cell_type": "markdown",
   "id": "09a9a212",
   "metadata": {},
   "source": [
    "for english : python -m spacy download en_core_web_sm -- this command trains pipeline for english language"
   ]
  },
  {
   "cell_type": "code",
   "execution_count": 5,
   "id": "69bc9c55",
   "metadata": {},
   "outputs": [],
   "source": [
    "nlp = spacy.load('en_core_web_sm') # loading pipeline with all components"
   ]
  },
  {
   "cell_type": "code",
   "execution_count": 6,
   "id": "324ab259",
   "metadata": {},
   "outputs": [
    {
     "data": {
      "text/plain": [
       "['tok2vec', 'tagger', 'parser', 'attribute_ruler', 'lemmatizer', 'ner']"
      ]
     },
     "execution_count": 6,
     "metadata": {},
     "output_type": "execute_result"
    }
   ],
   "source": [
    "nlp.pipe_names # all components of pipeline"
   ]
  },
  {
   "cell_type": "code",
   "execution_count": 7,
   "id": "cd40a1b7",
   "metadata": {},
   "outputs": [
    {
     "name": "stdout",
     "output_type": "stream",
     "text": [
      "Mr.  |  PROPN  |  Mr.\n",
      "and  |  CCONJ  |  and\n",
      "Mrs.  |  PROPN  |  Mrs.\n",
      "sharma  |  NOUN  |  sharma\n",
      "are  |  AUX  |  be\n",
      "doctors  |  NOUN  |  doctor\n",
      ".  |  PUNCT  |  .\n",
      "They  |  PRON  |  they\n",
      "bought  |  VERB  |  buy\n",
      "dosa  |  PROPN  |  dosa\n",
      ",  |  PUNCT  |  ,\n",
      "idli  |  PROPN  |  idli\n",
      ",  |  PUNCT  |  ,\n",
      "juice  |  NOUN  |  juice\n",
      "etc  |  X  |  etc\n",
      ".  |  X  |  .\n",
      "for  |  ADP  |  for\n",
      "5  |  NUM  |  5\n",
      "$  |  NUM  |  $\n",
      ",  |  PUNCT  |  ,\n",
      "they  |  PRON  |  they\n",
      "just  |  ADV  |  just\n",
      "love  |  VERB  |  love\n",
      "eating  |  VERB  |  eat\n",
      ".  |  PUNCT  |  .\n"
     ]
    }
   ],
   "source": [
    "doc = nlp(\"Mr. and Mrs. sharma are doctors.They bought dosa,idli,juice etc. for 5$, they just love eating.\")\n",
    "for token in doc:\n",
    "    print(token,\" | \",token.pos_,' | ',token.lemma_)\n",
    "    # token.pos_ here pos is Part Of Speech\n",
    "    # token.lemma_ shows base word"
   ]
  },
  {
   "cell_type": "markdown",
   "id": "07c02d0a",
   "metadata": {},
   "source": [
    "1. tagger compents gives POS Parts of speech proper noun, adverb , adjective,verb,punctuation,number etc\n",
    "2. lemmi gives base words.\n",
    "3. NER : Named Entity Recognition : "
   ]
  },
  {
   "cell_type": "code",
   "execution_count": 9,
   "id": "ebb5d8bf",
   "metadata": {},
   "outputs": [
    {
     "name": "stdout",
     "output_type": "stream",
     "text": [
      "sharma  |  PERSON  |  People, including fictional\n",
      "5$  |  MONEY  |  Monetary values, including unit\n",
      "london  |  GPE  |  Countries, cities, states\n"
     ]
    }
   ],
   "source": [
    "doc = nlp(\"Mr. and Mrs. sharma are doctors.They had dosa,idli,juice etc .for 5$ rupees.They visit london in summers.\")\n",
    "for ent in doc.ents:\n",
    "    print(ent.text,\" | \",ent.label_,\" | \",spacy.explain(ent.label_))"
   ]
  },
  {
   "cell_type": "markdown",
   "id": "87fc8642",
   "metadata": {},
   "source": [
    "# for better Visualization :"
   ]
  },
  {
   "cell_type": "code",
   "execution_count": 10,
   "id": "0fc8d1e7",
   "metadata": {},
   "outputs": [
    {
     "data": {
      "text/html": [
       "<span class=\"tex2jax_ignore\"><div class=\"entities\" style=\"line-height: 2.5; direction: ltr\">Mr. and Mrs. \n",
       "<mark class=\"entity\" style=\"background: #aa9cfc; padding: 0.45em 0.6em; margin: 0 0.25em; line-height: 1; border-radius: 0.35em;\">\n",
       "    sharma\n",
       "    <span style=\"font-size: 0.8em; font-weight: bold; line-height: 1; border-radius: 0.35em; vertical-align: middle; margin-left: 0.5rem\">PERSON</span>\n",
       "</mark>\n",
       " are doctors.They had dosa,idli,juice etc .for \n",
       "<mark class=\"entity\" style=\"background: #e4e7d2; padding: 0.45em 0.6em; margin: 0 0.25em; line-height: 1; border-radius: 0.35em;\">\n",
       "    5$\n",
       "    <span style=\"font-size: 0.8em; font-weight: bold; line-height: 1; border-radius: 0.35em; vertical-align: middle; margin-left: 0.5rem\">MONEY</span>\n",
       "</mark>\n",
       " rupees.They visit \n",
       "<mark class=\"entity\" style=\"background: #feca74; padding: 0.45em 0.6em; margin: 0 0.25em; line-height: 1; border-radius: 0.35em;\">\n",
       "    london\n",
       "    <span style=\"font-size: 0.8em; font-weight: bold; line-height: 1; border-radius: 0.35em; vertical-align: middle; margin-left: 0.5rem\">GPE</span>\n",
       "</mark>\n",
       " in summers.</div></span>"
      ],
      "text/plain": [
       "<IPython.core.display.HTML object>"
      ]
     },
     "metadata": {},
     "output_type": "display_data"
    }
   ],
   "source": [
    "from spacy import displacy\n",
    "displacy.render(doc,style = \"ent\")"
   ]
  },
  {
   "cell_type": "markdown",
   "id": "18e4a47b",
   "metadata": {},
   "source": [
    "# Use of Pipeline for FRENCE LANGUAGE:"
   ]
  },
  {
   "cell_type": "markdown",
   "id": "3e0bc5c4",
   "metadata": {},
   "source": [
    "nlp = spacy.load(\"fr_core_news_sm\")\n",
    "\n",
    "You need to install the processing pipeline for french language using this command in git bash,\n",
    "\n",
    "python -m spacy download fr_core_news_sm"
   ]
  },
  {
   "cell_type": "markdown",
   "id": "619c67dc",
   "metadata": {},
   "source": [
    "# Cusmisation/Adding a component to a blank pipeline :"
   ]
  },
  {
   "cell_type": "code",
   "execution_count": 11,
   "id": "95a48be4",
   "metadata": {},
   "outputs": [],
   "source": [
    "source_nlp = spacy.load(\"en_core_web_sm\") # first load english pipeline"
   ]
  },
  {
   "cell_type": "code",
   "execution_count": 12,
   "id": "7db6261e",
   "metadata": {},
   "outputs": [
    {
     "data": {
      "text/plain": [
       "['ner']"
      ]
     },
     "execution_count": 12,
     "metadata": {},
     "output_type": "execute_result"
    }
   ],
   "source": [
    "nlp = spacy.blank(\"en\") # then create blank pipeline \n",
    "nlp.add_pipe(\"ner\", source=source_nlp) # then add 'ner' in the pipeline from source as source_nlp add as custome components\n",
    "nlp.pipe_names # shows names of componenst added in a pipeline"
   ]
  },
  {
   "cell_type": "code",
   "execution_count": 14,
   "id": "7767a650",
   "metadata": {},
   "outputs": [
    {
     "name": "stdout",
     "output_type": "stream",
     "text": [
      "Tesla Inc  |  ORG  |  Companies, agencies, institutions, etc.\n",
      "$45 billion  |  MONEY  |  Monetary values, including unit\n"
     ]
    }
   ],
   "source": [
    "doc = nlp(\"Tesla Inc is going to acquire twitter for $45 billion\")\n",
    "for ent in doc.ents:\n",
    "    print(ent.text,\" | \",ent.label_,\" | \",spacy.explain(ent.label_))"
   ]
  }
 ],
 "metadata": {
  "kernelspec": {
   "display_name": "Python 3 (ipykernel)",
   "language": "python",
   "name": "python3"
  },
  "language_info": {
   "codemirror_mode": {
    "name": "ipython",
    "version": 3
   },
   "file_extension": ".py",
   "mimetype": "text/x-python",
   "name": "python",
   "nbconvert_exporter": "python",
   "pygments_lexer": "ipython3",
   "version": "3.11.4"
  }
 },
 "nbformat": 4,
 "nbformat_minor": 5
}
