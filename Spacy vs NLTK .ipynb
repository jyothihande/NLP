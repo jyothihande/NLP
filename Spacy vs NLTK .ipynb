{
 "cells": [
  {
   "cell_type": "markdown",
   "id": "4d1ac88a",
   "metadata": {},
   "source": [
    "# Sentence and Word Tokenisation using Spacy and NLTK:"
   ]
  },
  {
   "cell_type": "code",
   "execution_count": 2,
   "id": "9de3074c",
   "metadata": {},
   "outputs": [
    {
     "name": "stdout",
     "output_type": "stream",
     "text": [
      "Collecting spacy\n",
      "  Obtaining dependency information for spacy from https://files.pythonhosted.org/packages/90/f0/0133b684e18932c7bf4075d94819746cee2c0329f2569db526b0fa1df1df/spacy-3.7.2-cp311-cp311-win_amd64.whl.metadata\n",
      "  Using cached spacy-3.7.2-cp311-cp311-win_amd64.whl.metadata (26 kB)\n",
      "Collecting spacy-legacy<3.1.0,>=3.0.11 (from spacy)\n",
      "  Using cached spacy_legacy-3.0.12-py2.py3-none-any.whl (29 kB)\n",
      "Collecting spacy-loggers<2.0.0,>=1.0.0 (from spacy)\n",
      "  Obtaining dependency information for spacy-loggers<2.0.0,>=1.0.0 from https://files.pythonhosted.org/packages/33/78/d1a1a026ef3af911159398c939b1509d5c36fe524c7b644f34a5146c4e16/spacy_loggers-1.0.5-py3-none-any.whl.metadata\n",
      "  Using cached spacy_loggers-1.0.5-py3-none-any.whl.metadata (23 kB)\n",
      "Collecting murmurhash<1.1.0,>=0.28.0 (from spacy)\n",
      "  Obtaining dependency information for murmurhash<1.1.0,>=0.28.0 from https://files.pythonhosted.org/packages/71/46/af01a20ec368bd9cb49a1d2df15e3eca113bbf6952cc1f2a47f1c6801a7f/murmurhash-1.0.10-cp311-cp311-win_amd64.whl.metadata\n",
      "  Using cached murmurhash-1.0.10-cp311-cp311-win_amd64.whl.metadata (2.0 kB)\n",
      "Collecting cymem<2.1.0,>=2.0.2 (from spacy)\n",
      "  Obtaining dependency information for cymem<2.1.0,>=2.0.2 from https://files.pythonhosted.org/packages/c1/c3/dd044e6f62a3d317c461f6f0c153c6573ed13025752d779e514000c15dd2/cymem-2.0.8-cp311-cp311-win_amd64.whl.metadata\n",
      "  Using cached cymem-2.0.8-cp311-cp311-win_amd64.whl.metadata (8.6 kB)\n",
      "Collecting preshed<3.1.0,>=3.0.2 (from spacy)\n",
      "  Obtaining dependency information for preshed<3.1.0,>=3.0.2 from https://files.pythonhosted.org/packages/e4/fc/78cdbdb79f5d6d45949e72c32445d6c060977ad50a1dcfc0392622165f7c/preshed-3.0.9-cp311-cp311-win_amd64.whl.metadata\n",
      "  Using cached preshed-3.0.9-cp311-cp311-win_amd64.whl.metadata (2.2 kB)\n",
      "Collecting thinc<8.3.0,>=8.1.8 (from spacy)\n",
      "  Obtaining dependency information for thinc<8.3.0,>=8.1.8 from https://files.pythonhosted.org/packages/dd/e9/c806bd2b281cc4cb5eea9375c3f45f6c4ff293877f469bb38d78a4f1cf96/thinc-8.2.1-cp311-cp311-win_amd64.whl.metadata\n",
      "  Using cached thinc-8.2.1-cp311-cp311-win_amd64.whl.metadata (15 kB)\n",
      "Collecting wasabi<1.2.0,>=0.9.1 (from spacy)\n",
      "  Obtaining dependency information for wasabi<1.2.0,>=0.9.1 from https://files.pythonhosted.org/packages/8f/69/26cbf0bad11703241cb84d5324d868097f7a8faf2f1888354dac8883f3fc/wasabi-1.1.2-py3-none-any.whl.metadata\n",
      "  Using cached wasabi-1.1.2-py3-none-any.whl.metadata (28 kB)\n",
      "Collecting srsly<3.0.0,>=2.4.3 (from spacy)\n",
      "  Obtaining dependency information for srsly<3.0.0,>=2.4.3 from https://files.pythonhosted.org/packages/eb/f5/e3f29993f673d91623df6413ba64e815dd2676fd7932cbc5e7347402ddae/srsly-2.4.8-cp311-cp311-win_amd64.whl.metadata\n",
      "  Using cached srsly-2.4.8-cp311-cp311-win_amd64.whl.metadata (20 kB)\n",
      "Collecting catalogue<2.1.0,>=2.0.6 (from spacy)\n",
      "  Obtaining dependency information for catalogue<2.1.0,>=2.0.6 from https://files.pythonhosted.org/packages/9e/96/d32b941a501ab566a16358d68b6eb4e4acc373fab3c3c4d7d9e649f7b4bb/catalogue-2.0.10-py3-none-any.whl.metadata\n",
      "  Using cached catalogue-2.0.10-py3-none-any.whl.metadata (14 kB)\n",
      "Collecting weasel<0.4.0,>=0.1.0 (from spacy)\n",
      "  Obtaining dependency information for weasel<0.4.0,>=0.1.0 from https://files.pythonhosted.org/packages/a6/76/41433e70b7c9ed47db8206536ecc6408362db44111c27f59e76af20377f2/weasel-0.3.3-py3-none-any.whl.metadata\n",
      "  Using cached weasel-0.3.3-py3-none-any.whl.metadata (4.7 kB)\n",
      "Collecting typer<0.10.0,>=0.3.0 (from spacy)\n",
      "  Using cached typer-0.9.0-py3-none-any.whl (45 kB)\n",
      "Requirement already satisfied: smart-open<7.0.0,>=5.2.1 in c:\\users\\comp\\anaconda3\\lib\\site-packages (from spacy) (5.2.1)\n",
      "Requirement already satisfied: tqdm<5.0.0,>=4.38.0 in c:\\users\\comp\\anaconda3\\lib\\site-packages (from spacy) (4.65.0)\n",
      "Requirement already satisfied: requests<3.0.0,>=2.13.0 in c:\\users\\comp\\anaconda3\\lib\\site-packages (from spacy) (2.31.0)\n",
      "Collecting pydantic!=1.8,!=1.8.1,<3.0.0,>=1.7.4 (from spacy)\n",
      "  Obtaining dependency information for pydantic!=1.8,!=1.8.1,<3.0.0,>=1.7.4 from https://files.pythonhosted.org/packages/73/66/0a72c9fcde42e5650c8d8d5c5c1873b9a3893018020c77ca8eb62708b923/pydantic-2.4.2-py3-none-any.whl.metadata\n",
      "  Downloading pydantic-2.4.2-py3-none-any.whl.metadata (158 kB)\n",
      "     ---------------------------------------- 0.0/158.6 kB ? eta -:--:--\n",
      "     ---------------------------------- --- 143.4/158.6 kB 4.3 MB/s eta 0:00:01\n",
      "     ------------------------------------ - 153.6/158.6 kB 3.1 MB/s eta 0:00:01\n",
      "     ------------------------------------ - 153.6/158.6 kB 3.1 MB/s eta 0:00:01\n",
      "     ------------------------------------ - 153.6/158.6 kB 3.1 MB/s eta 0:00:01\n",
      "     ------------------------------------ - 153.6/158.6 kB 3.1 MB/s eta 0:00:01\n",
      "     ------------------------------------ - 153.6/158.6 kB 3.1 MB/s eta 0:00:01\n",
      "     ------------------------------------ - 153.6/158.6 kB 3.1 MB/s eta 0:00:01\n",
      "     ------------------------------------ - 153.6/158.6 kB 3.1 MB/s eta 0:00:01\n",
      "     ------------------------------------ - 153.6/158.6 kB 3.1 MB/s eta 0:00:01\n",
      "     ------------------------------------ - 153.6/158.6 kB 3.1 MB/s eta 0:00:01\n",
      "     ------------------------------------ - 153.6/158.6 kB 3.1 MB/s eta 0:00:01\n",
      "     ------------------------------------ 158.6/158.6 kB 306.6 kB/s eta 0:00:00\n",
      "Requirement already satisfied: jinja2 in c:\\users\\comp\\anaconda3\\lib\\site-packages (from spacy) (3.1.2)\n",
      "Requirement already satisfied: setuptools in c:\\users\\comp\\anaconda3\\lib\\site-packages (from spacy) (68.0.0)\n",
      "Requirement already satisfied: packaging>=20.0 in c:\\users\\comp\\anaconda3\\lib\\site-packages (from spacy) (23.0)\n",
      "Collecting langcodes<4.0.0,>=3.2.0 (from spacy)\n",
      "  Using cached langcodes-3.3.0-py3-none-any.whl (181 kB)\n",
      "Requirement already satisfied: numpy>=1.19.0 in c:\\users\\comp\\anaconda3\\lib\\site-packages (from spacy) (1.24.3)\n",
      "Collecting annotated-types>=0.4.0 (from pydantic!=1.8,!=1.8.1,<3.0.0,>=1.7.4->spacy)\n",
      "  Obtaining dependency information for annotated-types>=0.4.0 from https://files.pythonhosted.org/packages/28/78/d31230046e58c207284c6b2c4e8d96e6d3cb4e52354721b944d3e1ee4aa5/annotated_types-0.6.0-py3-none-any.whl.metadata\n",
      "  Downloading annotated_types-0.6.0-py3-none-any.whl.metadata (12 kB)\n",
      "Collecting pydantic-core==2.10.1 (from pydantic!=1.8,!=1.8.1,<3.0.0,>=1.7.4->spacy)\n",
      "  Obtaining dependency information for pydantic-core==2.10.1 from https://files.pythonhosted.org/packages/7c/49/bd863a3d7c5412d739f3a28da0f437f25ccfa92413675c93412e64b812ed/pydantic_core-2.10.1-cp311-none-win_amd64.whl.metadata\n",
      "  Downloading pydantic_core-2.10.1-cp311-none-win_amd64.whl.metadata (6.6 kB)\n",
      "Requirement already satisfied: typing-extensions>=4.6.1 in c:\\users\\comp\\anaconda3\\lib\\site-packages (from pydantic!=1.8,!=1.8.1,<3.0.0,>=1.7.4->spacy) (4.7.1)\n",
      "Requirement already satisfied: charset-normalizer<4,>=2 in c:\\users\\comp\\anaconda3\\lib\\site-packages (from requests<3.0.0,>=2.13.0->spacy) (2.0.4)\n",
      "Requirement already satisfied: idna<4,>=2.5 in c:\\users\\comp\\anaconda3\\lib\\site-packages (from requests<3.0.0,>=2.13.0->spacy) (3.4)\n",
      "Requirement already satisfied: urllib3<3,>=1.21.1 in c:\\users\\comp\\anaconda3\\lib\\site-packages (from requests<3.0.0,>=2.13.0->spacy) (1.26.16)\n",
      "Requirement already satisfied: certifi>=2017.4.17 in c:\\users\\comp\\anaconda3\\lib\\site-packages (from requests<3.0.0,>=2.13.0->spacy) (2023.7.22)\n",
      "Collecting blis<0.8.0,>=0.7.8 (from thinc<8.3.0,>=8.1.8->spacy)\n",
      "  Obtaining dependency information for blis<0.8.0,>=0.7.8 from https://files.pythonhosted.org/packages/2f/09/da0592c74560cc33396504698122f7a56747c82a5e072ca7d2c3397898e1/blis-0.7.11-cp311-cp311-win_amd64.whl.metadata\n",
      "  Using cached blis-0.7.11-cp311-cp311-win_amd64.whl.metadata (7.6 kB)\n",
      "Collecting confection<1.0.0,>=0.0.1 (from thinc<8.3.0,>=8.1.8->spacy)\n",
      "  Obtaining dependency information for confection<1.0.0,>=0.0.1 from https://files.pythonhosted.org/packages/93/f8/e89268a1f885048fb2ee6b5c9f93c4e90de768534acfef3652f87d97d4cb/confection-0.1.3-py3-none-any.whl.metadata\n",
      "  Using cached confection-0.1.3-py3-none-any.whl.metadata (19 kB)\n",
      "Requirement already satisfied: colorama in c:\\users\\comp\\anaconda3\\lib\\site-packages (from tqdm<5.0.0,>=4.38.0->spacy) (0.4.6)\n",
      "Requirement already satisfied: click<9.0.0,>=7.1.1 in c:\\users\\comp\\anaconda3\\lib\\site-packages (from typer<0.10.0,>=0.3.0->spacy) (8.0.4)\n",
      "Collecting cloudpathlib<0.17.0,>=0.7.0 (from weasel<0.4.0,>=0.1.0->spacy)\n",
      "  Obtaining dependency information for cloudpathlib<0.17.0,>=0.7.0 from https://files.pythonhosted.org/packages/0f/6e/45b57a7d4573d85d0b0a39d99673dc1f5eea9d92a1a4603b35e968fbf89a/cloudpathlib-0.16.0-py3-none-any.whl.metadata\n",
      "  Using cached cloudpathlib-0.16.0-py3-none-any.whl.metadata (14 kB)\n",
      "Requirement already satisfied: MarkupSafe>=2.0 in c:\\users\\comp\\anaconda3\\lib\\site-packages (from jinja2->spacy) (2.1.1)\n",
      "Using cached spacy-3.7.2-cp311-cp311-win_amd64.whl (12.1 MB)\n",
      "Using cached catalogue-2.0.10-py3-none-any.whl (17 kB)\n",
      "Using cached cymem-2.0.8-cp311-cp311-win_amd64.whl (39 kB)\n",
      "Using cached murmurhash-1.0.10-cp311-cp311-win_amd64.whl (25 kB)\n",
      "Using cached preshed-3.0.9-cp311-cp311-win_amd64.whl (122 kB)\n",
      "Downloading pydantic-2.4.2-py3-none-any.whl (395 kB)\n",
      "   ---------------------------------------- 0.0/395.8 kB ? eta -:--:--\n",
      "   ------------------------------ --------- 297.0/395.8 kB 6.1 MB/s eta 0:00:01\n",
      "   ----------------------------------- ---- 348.2/395.8 kB 3.6 MB/s eta 0:00:01\n",
      "   ---------------------------------------  389.1/395.8 kB 2.7 MB/s eta 0:00:01\n",
      "   ---------------------------------------  389.1/395.8 kB 2.7 MB/s eta 0:00:01\n",
      "   ---------------------------------------  389.1/395.8 kB 2.7 MB/s eta 0:00:01\n",
      "   ---------------------------------------- 395.8/395.8 kB 1.5 MB/s eta 0:00:00\n",
      "Downloading pydantic_core-2.10.1-cp311-none-win_amd64.whl (2.0 MB)\n",
      "   ---------------------------------------- 0.0/2.0 MB ? eta -:--:--\n",
      "   ---- ----------------------------------- 0.2/2.0 MB 6.9 MB/s eta 0:00:01\n",
      "   ---- ----------------------------------- 0.2/2.0 MB 4.8 MB/s eta 0:00:01\n",
      "   ----- ---------------------------------- 0.3/2.0 MB 2.2 MB/s eta 0:00:01\n",
      "   ------ --------------------------------- 0.3/2.0 MB 2.1 MB/s eta 0:00:01\n",
      "   ------- -------------------------------- 0.4/2.0 MB 2.0 MB/s eta 0:00:01\n",
      "   --------- ------------------------------ 0.5/2.0 MB 1.7 MB/s eta 0:00:01\n",
      "   --------- ------------------------------ 0.5/2.0 MB 1.7 MB/s eta 0:00:01\n",
      "   --------- ------------------------------ 0.5/2.0 MB 1.7 MB/s eta 0:00:01\n",
      "   --------- ------------------------------ 0.5/2.0 MB 1.7 MB/s eta 0:00:01\n",
      "   --------- ------------------------------ 0.5/2.0 MB 1.7 MB/s eta 0:00:01\n",
      "   ---------- ----------------------------- 0.5/2.0 MB 983.0 kB/s eta 0:00:02\n",
      "   -------------- ------------------------- 0.7/2.0 MB 1.3 MB/s eta 0:00:01\n",
      "   --------------- ------------------------ 0.8/2.0 MB 1.3 MB/s eta 0:00:01\n",
      "   ---------------- ----------------------- 0.8/2.0 MB 1.3 MB/s eta 0:00:01\n",
      "   ----------------- ---------------------- 0.9/2.0 MB 1.3 MB/s eta 0:00:01\n",
      "   ------------------ --------------------- 0.9/2.0 MB 1.3 MB/s eta 0:00:01\n",
      "   ------------------- -------------------- 1.0/2.0 MB 1.3 MB/s eta 0:00:01\n",
      "   ------------------- -------------------- 1.0/2.0 MB 1.3 MB/s eta 0:00:01\n",
      "   ------------------- -------------------- 1.0/2.0 MB 1.3 MB/s eta 0:00:01\n",
      "   ------------------- -------------------- 1.0/2.0 MB 1.3 MB/s eta 0:00:01\n",
      "   ------------------- -------------------- 1.0/2.0 MB 1.3 MB/s eta 0:00:01\n",
      "   --------------------- ------------------ 1.0/2.0 MB 1.1 MB/s eta 0:00:01\n",
      "   ------------------------- -------------- 1.3/2.0 MB 1.3 MB/s eta 0:00:01\n",
      "   ------------------------- -------------- 1.3/2.0 MB 1.3 MB/s eta 0:00:01\n",
      "   -------------------------- ------------- 1.3/2.0 MB 1.2 MB/s eta 0:00:01\n",
      "   --------------------------- ------------ 1.4/2.0 MB 1.2 MB/s eta 0:00:01\n",
      "   ---------------------------- ----------- 1.4/2.0 MB 1.2 MB/s eta 0:00:01\n",
      "   ----------------------------- ---------- 1.5/2.0 MB 1.2 MB/s eta 0:00:01\n",
      "   ------------------------------ --------- 1.5/2.0 MB 1.2 MB/s eta 0:00:01\n",
      "   ------------------------------ --------- 1.5/2.0 MB 1.2 MB/s eta 0:00:01\n",
      "   ------------------------------ --------- 1.5/2.0 MB 1.2 MB/s eta 0:00:01\n",
      "   ------------------------------ --------- 1.5/2.0 MB 1.2 MB/s eta 0:00:01\n",
      "   ------------------------------ --------- 1.5/2.0 MB 1.0 MB/s eta 0:00:01\n",
      "   ------------------------------- -------- 1.6/2.0 MB 1.0 MB/s eta 0:00:01\n",
      "   ------------------------------------- -- 1.9/2.0 MB 1.2 MB/s eta 0:00:01\n",
      "   -------------------------------------- - 1.9/2.0 MB 1.2 MB/s eta 0:00:01\n",
      "   ---------------------------------------  2.0/2.0 MB 1.2 MB/s eta 0:00:01\n",
      "   ---------------------------------------  2.0/2.0 MB 1.2 MB/s eta 0:00:01\n",
      "   ---------------------------------------  2.0/2.0 MB 1.2 MB/s eta 0:00:01\n",
      "   ---------------------------------------  2.0/2.0 MB 1.2 MB/s eta 0:00:01\n",
      "   ---------------------------------------  2.0/2.0 MB 1.2 MB/s eta 0:00:01\n",
      "   ---------------------------------------  2.0/2.0 MB 1.2 MB/s eta 0:00:01\n",
      "   ---------------------------------------- 2.0/2.0 MB 1.0 MB/s eta 0:00:00\n",
      "Using cached spacy_loggers-1.0.5-py3-none-any.whl (22 kB)\n",
      "Using cached srsly-2.4.8-cp311-cp311-win_amd64.whl (479 kB)\n",
      "Using cached thinc-8.2.1-cp311-cp311-win_amd64.whl (1.5 MB)\n",
      "Using cached wasabi-1.1.2-py3-none-any.whl (27 kB)\n",
      "Using cached weasel-0.3.3-py3-none-any.whl (49 kB)\n",
      "Downloading annotated_types-0.6.0-py3-none-any.whl (12 kB)\n",
      "Using cached blis-0.7.11-cp311-cp311-win_amd64.whl (6.6 MB)\n",
      "Using cached cloudpathlib-0.16.0-py3-none-any.whl (45 kB)\n",
      "Using cached confection-0.1.3-py3-none-any.whl (34 kB)\n",
      "Installing collected packages: cymem, wasabi, spacy-loggers, spacy-legacy, pydantic-core, murmurhash, langcodes, cloudpathlib, catalogue, blis, annotated-types, typer, srsly, pydantic, preshed, confection, weasel, thinc, spacy\n",
      "Successfully installed annotated-types-0.6.0 blis-0.7.11 catalogue-2.0.10 cloudpathlib-0.16.0 confection-0.1.3 cymem-2.0.8 langcodes-3.3.0 murmurhash-1.0.10 preshed-3.0.9 pydantic-2.4.2 pydantic-core-2.10.1 spacy-3.7.2 spacy-legacy-3.0.12 spacy-loggers-1.0.5 srsly-2.4.8 thinc-8.2.1 typer-0.9.0 wasabi-1.1.2 weasel-0.3.3\n",
      "Note: you may need to restart the kernel to use updated packages.\n"
     ]
    }
   ],
   "source": [
    "pip install spacy"
   ]
  },
  {
   "cell_type": "code",
   "execution_count": 1,
   "id": "7b07dd22",
   "metadata": {
    "scrolled": true
   },
   "outputs": [],
   "source": [
    "import spacy  #import spacy library"
   ]
  },
  {
   "cell_type": "code",
   "execution_count": 3,
   "id": "2ec94e28",
   "metadata": {},
   "outputs": [
    {
     "name": "stdout",
     "output_type": "stream",
     "text": [
      "\u001b[38;5;2m✔ Download and installation successful\u001b[0m\n",
      "You can now load the package via spacy.load('en_core_web_sm')\n"
     ]
    }
   ],
   "source": [
    "spacy.cli.download(\"en_core_web_sm\")"
   ]
  },
  {
   "cell_type": "code",
   "execution_count": 4,
   "id": "7fdbd211",
   "metadata": {},
   "outputs": [],
   "source": [
    "nlp = spacy.load(\"en_core_web_sm\")"
   ]
  },
  {
   "cell_type": "code",
   "execution_count": 10,
   "id": "c5987739",
   "metadata": {},
   "outputs": [],
   "source": [
    "# Sentence Tokenisation using Spacy"
   ]
  },
  {
   "cell_type": "code",
   "execution_count": 7,
   "id": "5964d3fc",
   "metadata": {},
   "outputs": [
    {
     "name": "stdout",
     "output_type": "stream",
     "text": [
      "Mr. and Mrs. Sharma are on holidays for 10 days.\n",
      "You have to wait for them to return.\n"
     ]
    }
   ],
   "source": [
    "doc = nlp(\"Mr. and Mrs. Sharma are on holidays for 10 days.You have to wait for them to return.\") # doc is object created\n",
    "for sentence in doc.sents:  # split whole lines accurately #object has property called sents.\n",
    "    print(sentence)  # sentence tokenisation"
   ]
  },
  {
   "cell_type": "code",
   "execution_count": 9,
   "id": "37251d0d",
   "metadata": {},
   "outputs": [],
   "source": [
    "# Word Tokenisation in Spacy"
   ]
  },
  {
   "cell_type": "code",
   "execution_count": 8,
   "id": "2c014ec7",
   "metadata": {},
   "outputs": [
    {
     "name": "stdout",
     "output_type": "stream",
     "text": [
      "Mr.\n",
      "and\n",
      "Mrs.\n",
      "Sharma\n",
      "are\n",
      "on\n",
      "holidays\n",
      "for\n",
      "10\n",
      "days\n",
      ".\n",
      "You\n",
      "have\n",
      "to\n",
      "wait\n",
      "for\n",
      "them\n",
      "to\n",
      "return\n",
      ".\n"
     ]
    }
   ],
   "source": [
    "for sentence in doc.sents:\n",
    "    for words in sentence:\n",
    "        print(words)"
   ]
  },
  {
   "cell_type": "markdown",
   "id": "3c3844c6",
   "metadata": {},
   "source": [
    "# Sentence and Word Tokenisation using NLTK:"
   ]
  },
  {
   "cell_type": "code",
   "execution_count": 4,
   "id": "0b9001b6",
   "metadata": {
    "scrolled": true
   },
   "outputs": [
    {
     "name": "stdout",
     "output_type": "stream",
     "text": [
      "Requirement already satisfied: nltk in c:\\users\\comp\\anaconda3\\lib\\site-packages (3.8.1)Note: you may need to restart the kernel to use updated packages.\n",
      "\n",
      "Requirement already satisfied: click in c:\\users\\comp\\anaconda3\\lib\\site-packages (from nltk) (8.0.4)\n",
      "Requirement already satisfied: joblib in c:\\users\\comp\\anaconda3\\lib\\site-packages (from nltk) (1.2.0)\n",
      "Requirement already satisfied: regex>=2021.8.3 in c:\\users\\comp\\anaconda3\\lib\\site-packages (from nltk) (2022.7.9)\n",
      "Requirement already satisfied: tqdm in c:\\users\\comp\\anaconda3\\lib\\site-packages (from nltk) (4.65.0)\n",
      "Requirement already satisfied: colorama in c:\\users\\comp\\anaconda3\\lib\\site-packages (from click->nltk) (0.4.6)\n"
     ]
    }
   ],
   "source": [
    "pip install nltk"
   ]
  },
  {
   "cell_type": "code",
   "execution_count": 15,
   "id": "c56596f7",
   "metadata": {},
   "outputs": [],
   "source": [
    "import nltk  # nltk provides costumisation"
   ]
  },
  {
   "cell_type": "code",
   "execution_count": 16,
   "id": "8a86bfc1",
   "metadata": {},
   "outputs": [
    {
     "name": "stderr",
     "output_type": "stream",
     "text": [
      "[nltk_data] Downloading package punkt to\n",
      "[nltk_data]     C:\\Users\\Comp\\AppData\\Roaming\\nltk_data...\n",
      "[nltk_data]   Package punkt is already up-to-date!\n"
     ]
    },
    {
     "data": {
      "text/plain": [
       "True"
      ]
     },
     "execution_count": 16,
     "metadata": {},
     "output_type": "execute_result"
    }
   ],
   "source": [
    "nltk.download('punkt')"
   ]
  },
  {
   "cell_type": "code",
   "execution_count": 19,
   "id": "43db0287",
   "metadata": {},
   "outputs": [],
   "source": [
    "# sentence tokenisation"
   ]
  },
  {
   "cell_type": "code",
   "execution_count": 11,
   "id": "a852ac30",
   "metadata": {},
   "outputs": [],
   "source": [
    "from nltk.tokenize import sent_tokenize"
   ]
  },
  {
   "cell_type": "code",
   "execution_count": 18,
   "id": "2b0fa2b5",
   "metadata": {},
   "outputs": [
    {
     "data": {
      "text/plain": [
       "['Mr. and Mrs. Sharma are on holidays for 10 days.',\n",
       " 'You have to wait for them to return.']"
      ]
     },
     "execution_count": 18,
     "metadata": {},
     "output_type": "execute_result"
    }
   ],
   "source": [
    "sent_tokenize(\"Mr. and Mrs. Sharma are on holidays for 10 days. You have to wait for them to return.\") \n",
    "# output is array of strings"
   ]
  },
  {
   "cell_type": "code",
   "execution_count": 20,
   "id": "3087504a",
   "metadata": {},
   "outputs": [],
   "source": [
    "# word tokenisation"
   ]
  },
  {
   "cell_type": "code",
   "execution_count": 21,
   "id": "f564f832",
   "metadata": {},
   "outputs": [],
   "source": [
    "from nltk.tokenize import word_tokenize"
   ]
  },
  {
   "cell_type": "code",
   "execution_count": 22,
   "id": "7ab68a31",
   "metadata": {},
   "outputs": [
    {
     "data": {
      "text/plain": [
       "['Mr.',\n",
       " 'and',\n",
       " 'Mrs.',\n",
       " 'Sharma',\n",
       " 'are',\n",
       " 'on',\n",
       " 'holidays',\n",
       " 'for',\n",
       " '10',\n",
       " 'days.You',\n",
       " 'have',\n",
       " 'to',\n",
       " 'wait',\n",
       " 'for',\n",
       " 'them',\n",
       " 'to',\n",
       " 'return',\n",
       " '.']"
      ]
     },
     "execution_count": 22,
     "metadata": {},
     "output_type": "execute_result"
    }
   ],
   "source": [
    "word_tokenize(\"Mr. and Mrs. Sharma are on holidays for 10 days.You have to wait for them to return.\")# array of strings"
   ]
  },
  {
   "cell_type": "code",
   "execution_count": null,
   "id": "b3efa2ed",
   "metadata": {},
   "outputs": [],
   "source": []
  },
  {
   "cell_type": "code",
   "execution_count": null,
   "id": "687e2228",
   "metadata": {},
   "outputs": [],
   "source": []
  },
  {
   "cell_type": "code",
   "execution_count": null,
   "id": "75355665",
   "metadata": {},
   "outputs": [],
   "source": []
  },
  {
   "cell_type": "code",
   "execution_count": null,
   "id": "117ab6d0",
   "metadata": {},
   "outputs": [],
   "source": []
  },
  {
   "cell_type": "code",
   "execution_count": null,
   "id": "34218fdc",
   "metadata": {},
   "outputs": [],
   "source": []
  },
  {
   "cell_type": "code",
   "execution_count": null,
   "id": "b8b83bbc",
   "metadata": {},
   "outputs": [],
   "source": []
  }
 ],
 "metadata": {
  "kernelspec": {
   "display_name": "Python 3 (ipykernel)",
   "language": "python",
   "name": "python3"
  },
  "language_info": {
   "codemirror_mode": {
    "name": "ipython",
    "version": 3
   },
   "file_extension": ".py",
   "mimetype": "text/x-python",
   "name": "python",
   "nbconvert_exporter": "python",
   "pygments_lexer": "ipython3",
   "version": "3.11.4"
  }
 },
 "nbformat": 4,
 "nbformat_minor": 5
}
