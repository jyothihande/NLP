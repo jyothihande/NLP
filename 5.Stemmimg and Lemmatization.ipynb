{
 "cells": [
  {
   "cell_type": "markdown",
   "id": "498e2625",
   "metadata": {},
   "source": [
    "#NLTK supports both stemming and lammitization.   \n",
    "\n",
    "\n",
    "#SPACY only supports Lammitisation."
   ]
  },
  {
   "cell_type": "code",
   "execution_count": 1,
   "id": "b2fad036",
   "metadata": {},
   "outputs": [],
   "source": [
    "#let import necessary libraries and create the object\n",
    "\n",
    "import spacy \n",
    "import nltk"
   ]
  },
  {
   "cell_type": "markdown",
   "id": "8ce99484",
   "metadata": {},
   "source": [
    "# Stemming using nltk :"
   ]
  },
  {
   "cell_type": "code",
   "execution_count": 2,
   "id": "49b71bd1",
   "metadata": {},
   "outputs": [],
   "source": [
    "#let import necessary libraries and create the object\n",
    "#using stemming in nltk\n",
    "\n",
    "from nltk.stem import PorterStemmer"
   ]
  },
  {
   "cell_type": "code",
   "execution_count": 3,
   "id": "462cc143",
   "metadata": {},
   "outputs": [],
   "source": [
    "stemmer = PorterStemmer() #porter stemmer is a class and object created for stemmer"
   ]
  },
  {
   "cell_type": "code",
   "execution_count": 4,
   "id": "1c9d25df",
   "metadata": {},
   "outputs": [
    {
     "name": "stdout",
     "output_type": "stream",
     "text": [
      "eating  |  eat\n",
      "ate  |  ate\n",
      "adjustable  |  adjust\n",
      "coming  |  come\n",
      "creating  |  creat\n",
      "logically  |  logic\n"
     ]
    }
   ],
   "source": [
    "words= [\"eating\",\"ate\",\"adjustable\",\"coming\",\"creating\",\"logically\"]\n",
    "for word in words:\n",
    "    print(word, ' | ',stemmer.stem(word))\n",
    "    "
   ]
  },
  {
   "cell_type": "markdown",
   "id": "4e1496a3",
   "metadata": {},
   "source": [
    "# Lemmatization using Spacy:"
   ]
  },
  {
   "cell_type": "code",
   "execution_count": 5,
   "id": "ec9535fe",
   "metadata": {},
   "outputs": [],
   "source": [
    "#using lemmatization in spacy\n",
    "\n",
    "nlp = spacy.load(\"en_core_web_sm\") # trained english model with fixed rules and fixed vocabulary\n",
    "# nlp is object which has sm small pipeline stored in it.for medium  md"
   ]
  },
  {
   "cell_type": "code",
   "execution_count": 6,
   "id": "5ba85962",
   "metadata": {},
   "outputs": [
    {
     "name": "stdout",
     "output_type": "stream",
     "text": [
      "ate | eat | 9837207709914848172\n",
      "eating | eat | 9837207709914848172\n",
      "coming | come | 5307304325359566725\n",
      "logically | logically | 6649606783349826904\n",
      "having | have | 14692702688101715474\n",
      "creating | create | 10217138629343254602\n",
      "i | I | 4690420944186131903\n",
      "'m | be | 10382539506755952630\n"
     ]
    }
   ],
   "source": [
    "doc = nlp(\"ate eating coming logically having creating i'm\")\n",
    "for token in doc:\n",
    "    print(token,\"|\",token.lemma_,\"|\",token.lemma) #lemma is unique ID for each base word\n",
    "# all rules are pre defined in trained pipeline model for english"
   ]
  },
  {
   "cell_type": "markdown",
   "id": "b3c6b25e",
   "metadata": {},
   "source": [
    "# Customization of Pipeline:"
   ]
  },
  {
   "cell_type": "code",
   "execution_count": 7,
   "id": "356347af",
   "metadata": {},
   "outputs": [],
   "source": [
    "nlp = spacy.load(\"en_core_web_sm\") # loading trained english model with fixed rules and fixed vocabulary\n",
    "# nlp is object which has sm small pipeline stored in it.for medium  md"
   ]
  },
  {
   "cell_type": "code",
   "execution_count": 8,
   "id": "d8fdca2e",
   "metadata": {},
   "outputs": [
    {
     "data": {
      "text/plain": [
       "['tok2vec', 'tagger', 'parser', 'attribute_ruler', 'lemmatizer', 'ner']"
      ]
     },
     "execution_count": 8,
     "metadata": {},
     "output_type": "execute_result"
    }
   ],
   "source": [
    "nlp.pipe_names #pipeline for english model of spacy"
   ]
  },
  {
   "cell_type": "markdown",
   "id": "3dcf5069",
   "metadata": {},
   "source": [
    "# english model does not understand slang words like bro so customize pipeline model of english:\n",
    "use attribute ruler"
   ]
  },
  {
   "cell_type": "code",
   "execution_count": 9,
   "id": "f2230170",
   "metadata": {},
   "outputs": [
    {
     "name": "stdout",
     "output_type": "stream",
     "text": [
      "mummy | mummy\n",
      "mommy | mommy\n",
      "mom | mom\n",
      "mother | mother\n"
     ]
    }
   ],
   "source": [
    "doc = nlp(\"mummy mommy mom mother\")\n",
    "for token in doc:\n",
    "    print(token,\"|\",token.lemma_)"
   ]
  },
  {
   "cell_type": "markdown",
   "id": "afb06409",
   "metadata": {},
   "source": [
    "Customise single word mother for all other alternatives:"
   ]
  },
  {
   "cell_type": "code",
   "execution_count": 11,
   "id": "50993b54",
   "metadata": {},
   "outputs": [
    {
     "name": "stdout",
     "output_type": "stream",
     "text": [
      "mummy | Mother\n",
      "mommy | Mother\n",
      "mom | Mother\n",
      "mother | mother\n"
     ]
    }
   ],
   "source": [
    "atribute = nlp.get_pipe('attribute_ruler') # load needed compenent from pipeline\n",
    "atribute.add([[{\"TEXT\" : \"mummy\"}],[{\"TEXT\" : \"mommy\"}],[{\"TEXT\" : \"mom\"}]],{\"Lemma\" : \"Mother\"})\n",
    "\n",
    "doc = nlp(\"mummy mommy mom mother\")\n",
    "for token in doc:\n",
    "    print(token,\"|\",token.lemma_)"
   ]
  },
  {
   "cell_type": "code",
   "execution_count": 12,
   "id": "b11d0ec1",
   "metadata": {},
   "outputs": [
    {
     "data": {
      "text/plain": [
       "mom"
      ]
     },
     "execution_count": 12,
     "metadata": {},
     "output_type": "execute_result"
    }
   ],
   "source": [
    "doc[2]"
   ]
  },
  {
   "cell_type": "code",
   "execution_count": 13,
   "id": "9462bde9",
   "metadata": {},
   "outputs": [
    {
     "data": {
      "text/plain": [
       "'Mother'"
      ]
     },
     "execution_count": 13,
     "metadata": {},
     "output_type": "execute_result"
    }
   ],
   "source": [
    "doc[2].lemma_"
   ]
  },
  {
   "cell_type": "code",
   "execution_count": null,
   "id": "eec2763c",
   "metadata": {},
   "outputs": [],
   "source": []
  }
 ],
 "metadata": {
  "kernelspec": {
   "display_name": "Python 3 (ipykernel)",
   "language": "python",
   "name": "python3"
  },
  "language_info": {
   "codemirror_mode": {
    "name": "ipython",
    "version": 3
   },
   "file_extension": ".py",
   "mimetype": "text/x-python",
   "name": "python",
   "nbconvert_exporter": "python",
   "pygments_lexer": "ipython3",
   "version": "3.11.4"
  }
 },
 "nbformat": 4,
 "nbformat_minor": 5
}
