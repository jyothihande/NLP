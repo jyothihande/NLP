{
 "cells": [
  {
   "cell_type": "markdown",
   "id": "7975b964",
   "metadata": {},
   "source": [
    "# NLP : Information Extraction using Regex"
   ]
  },
  {
   "cell_type": "code",
   "execution_count": 1,
   "id": "2a306bea",
   "metadata": {},
   "outputs": [],
   "source": [
    "import re"
   ]
  },
  {
   "cell_type": "code",
   "execution_count": 2,
   "id": "f0d19741",
   "metadata": {},
   "outputs": [],
   "source": [
    "text=\"\"\"Born: Ratan Naval Tata \n",
    "28 December 1937 (age 85)\n",
    "Bombay, Bombay Presidency, British India\n",
    "school: Cornell University (BArch)\n",
    "Occupation(s): Industrialist, Philanthropist\n",
    "Title\tChairman Emeritus, Tata Sons and Tata Group[1]\n",
    "Term: 1991–2012 2016–2017\n",
    "Predecessor: J. R. D. Tata\n",
    "Successor: Cyrus Mistry (2012–2016)\n",
    "Natarajan Chandrasekaran (2017–present)\n",
    "Parent: Naval Tata\n",
    "Relatives: Tata family\n",
    "Awards: \n",
    "Order of Australia (2023)\n",
    "Assam Baibhav (2021)\n",
    "Honorary Knight Grand Cross of the Order of the British Empire (2014)\n",
    "Padma Vibhushan (2008)\n",
    "Maharashtra Bhushan (2006)\n",
    "Padma Bhushan (2000) \"\"\""
   ]
  },
  {
   "cell_type": "markdown",
   "id": "6f7b5847",
   "metadata": {},
   "source": [
    "# --- Regular expression for getting Name"
   ]
  },
  {
   "cell_type": "code",
   "execution_count": 3,
   "id": "f6055d5c",
   "metadata": {},
   "outputs": [],
   "source": [
    "pattern_for_Name=\"Born.([\\dA-Za-z ]+)\""
   ]
  },
  {
   "cell_type": "code",
   "execution_count": 4,
   "id": "180dddb8",
   "metadata": {},
   "outputs": [
    {
     "data": {
      "text/plain": [
       "[' Ratan Naval Tata ']"
      ]
     },
     "execution_count": 4,
     "metadata": {},
     "output_type": "execute_result"
    }
   ],
   "source": [
    "re.findall(pattern_for_Name,text)"
   ]
  },
  {
   "cell_type": "markdown",
   "id": "9cb85bed",
   "metadata": {},
   "source": [
    "# --- Regular expression for getting Birthdate and Birth Place"
   ]
  },
  {
   "cell_type": "code",
   "execution_count": 5,
   "id": "54858a25",
   "metadata": {},
   "outputs": [],
   "source": [
    "pattern_for_birthdate='\\d+ [a-zA-Z]+ \\d{4}' #or \\d+ \\D+ \\d{4}"
   ]
  },
  {
   "cell_type": "code",
   "execution_count": 6,
   "id": "dfd24e9f",
   "metadata": {
    "scrolled": true
   },
   "outputs": [
    {
     "data": {
      "text/plain": [
       "['28 December 1937']"
      ]
     },
     "execution_count": 6,
     "metadata": {},
     "output_type": "execute_result"
    }
   ],
   "source": [
    "re.findall(pattern_for_birthdate,text)"
   ]
  },
  {
   "cell_type": "code",
   "execution_count": 7,
   "id": "49ddfe53",
   "metadata": {},
   "outputs": [],
   "source": [
    "pattern_for_place_DOB='(\\d+ \\D+ \\d{4})|\\(age.*\\n([A-Za-z, ]+)'"
   ]
  },
  {
   "cell_type": "code",
   "execution_count": 8,
   "id": "42fc41cb",
   "metadata": {},
   "outputs": [
    {
     "data": {
      "text/plain": [
       "[('28 December 1937', ''), ('', 'Bombay, Bombay Presidency, British India')]"
      ]
     },
     "execution_count": 8,
     "metadata": {},
     "output_type": "execute_result"
    }
   ],
   "source": [
    "re.findall(pattern_for_place_DOB,text) # DOB with Birth Place"
   ]
  },
  {
   "cell_type": "code",
   "execution_count": 9,
   "id": "9f3f5949",
   "metadata": {},
   "outputs": [],
   "source": [
    "pattern_for_place_DOB='(\\d+ \\D+ \\d{4})|\\(age.*\\n(.*)'"
   ]
  },
  {
   "cell_type": "code",
   "execution_count": 10,
   "id": "e342891e",
   "metadata": {},
   "outputs": [
    {
     "data": {
      "text/plain": [
       "[('28 December 1937', ''), ('', 'Bombay, Bombay Presidency, British India')]"
      ]
     },
     "execution_count": 10,
     "metadata": {},
     "output_type": "execute_result"
    }
   ],
   "source": [
    "re.findall(pattern_for_place_DOB,text) # DOB with Birth Place"
   ]
  },
  {
   "cell_type": "markdown",
   "id": "16c1ea3b",
   "metadata": {},
   "source": [
    "# --- Regular expression for getting age"
   ]
  },
  {
   "cell_type": "code",
   "execution_count": 11,
   "id": "79ecf265",
   "metadata": {},
   "outputs": [],
   "source": [
    "pattern_for_age='age.(\\d+)'"
   ]
  },
  {
   "cell_type": "code",
   "execution_count": 12,
   "id": "79278d6a",
   "metadata": {},
   "outputs": [
    {
     "data": {
      "text/plain": [
       "['85']"
      ]
     },
     "execution_count": 12,
     "metadata": {},
     "output_type": "execute_result"
    }
   ],
   "source": [
    "re.findall(pattern_for_age,text)"
   ]
  },
  {
   "cell_type": "markdown",
   "id": "c57f6869",
   "metadata": {},
   "source": [
    "# --- Regular expression for getting Awards"
   ]
  },
  {
   "cell_type": "code",
   "execution_count": 13,
   "id": "38c3cd7d",
   "metadata": {},
   "outputs": [],
   "source": [
    "pattern_awards='Awards: \\n([A-za-z0-9() \\n]+)'"
   ]
  },
  {
   "cell_type": "code",
   "execution_count": 14,
   "id": "e8949b11",
   "metadata": {},
   "outputs": [
    {
     "data": {
      "text/plain": [
       "['Order of Australia (2023)\\nAssam Baibhav (2021)\\nHonorary Knight Grand Cross of the Order of the British Empire (2014)\\nPadma Vibhushan (2008)\\nMaharashtra Bhushan (2006)\\nPadma Bhushan (2000) ']"
      ]
     },
     "execution_count": 14,
     "metadata": {},
     "output_type": "execute_result"
    }
   ],
   "source": [
    "re.findall(pattern_awards,text)"
   ]
  },
  {
   "cell_type": "markdown",
   "id": "9b6717ab",
   "metadata": {},
   "source": [
    "# --- A Python function to get all neccessary detail at a time."
   ]
  },
  {
   "cell_type": "code",
   "execution_count": 15,
   "id": "1072be6e",
   "metadata": {},
   "outputs": [],
   "source": [
    "def get_pattern_match(pattern,text):\n",
    "    matches = re.findall(pattern,text)\n",
    "    if matches:\n",
    "        return matches[0]"
   ]
  },
  {
   "cell_type": "code",
   "execution_count": 16,
   "id": "8bbb58cd",
   "metadata": {},
   "outputs": [
    {
     "data": {
      "text/plain": [
       "'85'"
      ]
     },
     "execution_count": 16,
     "metadata": {},
     "output_type": "execute_result"
    }
   ],
   "source": [
    "get_pattern_match('age.(\\d+)', text)"
   ]
  },
  {
   "cell_type": "code",
   "execution_count": 17,
   "id": "c2352dd6",
   "metadata": {},
   "outputs": [
    {
     "data": {
      "text/plain": [
       "'Order of Australia (2023)\\nAssam Baibhav (2021)\\nHonorary Knight Grand Cross of the Order of the British Empire (2014)\\nPadma Vibhushan (2008)\\nMaharashtra Bhushan (2006)\\nPadma Bhushan (2000) '"
      ]
     },
     "execution_count": 17,
     "metadata": {},
     "output_type": "execute_result"
    }
   ],
   "source": [
    "get_pattern_match('Awards: \\n([A-za-z0-9() \\n]+)', text)"
   ]
  },
  {
   "cell_type": "markdown",
   "id": "4bc0e5ec",
   "metadata": {},
   "source": [
    "# -- A Python Function for getting all details in single code"
   ]
  },
  {
   "cell_type": "markdown",
   "id": "f151d487",
   "metadata": {},
   "source": [
    " Regex for Information Extraction"
   ]
  },
  {
   "cell_type": "code",
   "execution_count": 18,
   "id": "b270ce1d",
   "metadata": {},
   "outputs": [],
   "source": [
    "def extract_personal_information(text):\n",
    "    age = get_pattern_match('age (\\d+)', text)\n",
    "    full_name = get_pattern_match('Born(.*)\\n', text)\n",
    "    birth_date = get_pattern_match('Born.*\\n(.*)\\(age', text)\n",
    "    birth_place = get_pattern_match('\\(age.*\\n(.*)', text)\n",
    "    awards = get_pattern_match('Awards: \\n([A-za-z0-9() \\n]+)', text)\n",
    "    return {\n",
    "        'age': int(age),\n",
    "        'name': full_name.strip(),\n",
    "        'birth_date': birth_date.strip(),\n",
    "        'birth_place': birth_place.strip(),\n",
    "        'awards': awards.strip()\n",
    "    }"
   ]
  },
  {
   "cell_type": "code",
   "execution_count": 19,
   "id": "16217d46",
   "metadata": {},
   "outputs": [
    {
     "data": {
      "text/plain": [
       "{'age': 85,\n",
       " 'name': ': Ratan Naval Tata',\n",
       " 'birth_date': '28 December 1937',\n",
       " 'birth_place': 'Bombay, Bombay Presidency, British India',\n",
       " 'awards': 'Order of Australia (2023)\\nAssam Baibhav (2021)\\nHonorary Knight Grand Cross of the Order of the British Empire (2014)\\nPadma Vibhushan (2008)\\nMaharashtra Bhushan (2006)\\nPadma Bhushan (2000)'}"
      ]
     },
     "execution_count": 19,
     "metadata": {},
     "output_type": "execute_result"
    }
   ],
   "source": [
    "extract_personal_information(text)"
   ]
  },
  {
   "cell_type": "code",
   "execution_count": 22,
   "id": "fac107b1",
   "metadata": {},
   "outputs": [],
   "source": [
    "text = '''\n",
    "Born\tMukesh Dhirubhai Ambani\n",
    "19 April 1957 (age 64)\n",
    "Aden, Colony of Aden\n",
    "(present-day Yemen)[1][2]\n",
    "Nationality\tIndian\n",
    "Alma mater\t\n",
    "St. Xavier's College, Mumbai\n",
    "Institute of Chemical Technology (B.E.)\n",
    "Stanford University (drop-out)\n",
    "Occupation\tChairman and MD, Reliance Industries\n",
    "Spouse(s)\tNita Ambani ​(m. 1985)​[3]\n",
    "Children\t3\n",
    "Parent(s)\t\n",
    "Dhirubhai Ambani (father)\n",
    "Kokilaben Ambani (mother)\n",
    "Relatives\tAnil Ambani (brother)\n",
    "Tina Ambani (sister-in-law)\n",
    "'''"
   ]
  },
  {
   "cell_type": "code",
   "execution_count": 24,
   "id": "ab54b715",
   "metadata": {},
   "outputs": [],
   "source": [
    "def extract_personal_information(text):\n",
    "    age = get_pattern_match('age (\\d+)', text)\n",
    "    full_name = get_pattern_match('Born(.*)\\n', text)\n",
    "    birth_date = get_pattern_match('Born.*\\n(.*)\\(age', text)\n",
    "    birth_place = get_pattern_match('\\(age.*\\n(.*)', text)\n",
    "    #awards = get_pattern_match('Awards: \\n([A-za-z0-9() \\n]+)', text)\n",
    "    return {\n",
    "        'age': int(age),\n",
    "        'name': full_name.strip(),\n",
    "        'birth_date': birth_date.strip(),\n",
    "        'birth_place': birth_place.strip(),\n",
    "       # 'awards': awards.strip()\n",
    "    }"
   ]
  },
  {
   "cell_type": "code",
   "execution_count": 25,
   "id": "b73c8787",
   "metadata": {},
   "outputs": [
    {
     "data": {
      "text/plain": [
       "{'age': 64,\n",
       " 'name': 'Mukesh Dhirubhai Ambani',\n",
       " 'birth_date': '19 April 1957',\n",
       " 'birth_place': 'Aden, Colony of Aden'}"
      ]
     },
     "execution_count": 25,
     "metadata": {},
     "output_type": "execute_result"
    }
   ],
   "source": [
    "extract_personal_information(text)"
   ]
  },
  {
   "cell_type": "code",
   "execution_count": null,
   "id": "cdd00b38",
   "metadata": {},
   "outputs": [],
   "source": []
  }
 ],
 "metadata": {
  "kernelspec": {
   "display_name": "Python 3 (ipykernel)",
   "language": "python",
   "name": "python3"
  },
  "language_info": {
   "codemirror_mode": {
    "name": "ipython",
    "version": 3
   },
   "file_extension": ".py",
   "mimetype": "text/x-python",
   "name": "python",
   "nbconvert_exporter": "python",
   "pygments_lexer": "ipython3",
   "version": "3.11.4"
  }
 },
 "nbformat": 4,
 "nbformat_minor": 5
}
