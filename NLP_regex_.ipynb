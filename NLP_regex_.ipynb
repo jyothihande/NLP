{
 "cells": [
  {
   "cell_type": "code",
   "execution_count": 1,
   "id": "84ca12a0",
   "metadata": {},
   "outputs": [],
   "source": [
    "import re"
   ]
  },
  {
   "cell_type": "code",
   "execution_count": null,
   "id": "33160567",
   "metadata": {},
   "outputs": [],
   "source": [
    "    PRACTICE QUESTION 1: Information Extraction IE "
   ]
  },
  {
   "cell_type": "code",
   "execution_count": 2,
   "id": "93844d81",
   "metadata": {},
   "outputs": [],
   "source": [
    "text=\"abcxyz.com  123-456-7890 or 9764253614 and also (122)-154-5858.Our email Id is Jyothi_298@gmail.com or jyothi@112gmail.com\""
   ]
  },
  {
   "cell_type": "code",
   "execution_count": 3,
   "id": "bfc8c7b2",
   "metadata": {},
   "outputs": [],
   "source": [
    "pattern='\\d{10}|\\d{3}-\\d{3}-\\d{4}|\\(\\d{3}\\)-\\d{3}-\\d{4}'"
   ]
  },
  {
   "cell_type": "code",
   "execution_count": 4,
   "id": "bbad30d8",
   "metadata": {},
   "outputs": [
    {
     "data": {
      "text/plain": [
       "['123-456-7890', '9764253614', '(122)-154-5858']"
      ]
     },
     "execution_count": 4,
     "metadata": {},
     "output_type": "execute_result"
    }
   ],
   "source": [
    "re.findall(pattern,text) #all required contact numbers"
   ]
  },
  {
   "cell_type": "code",
   "execution_count": 5,
   "id": "8f6fac53",
   "metadata": {},
   "outputs": [],
   "source": [
    "pattern_for_email='[A-Za-z0-9\\_]+\\@[a-z0-9]+\\.[a-z]+'"
   ]
  },
  {
   "cell_type": "code",
   "execution_count": 6,
   "id": "47ee77eb",
   "metadata": {},
   "outputs": [
    {
     "data": {
      "text/plain": [
       "['Jyothi_298@gmail.com', 'jyothi@112gmail.com']"
      ]
     },
     "execution_count": 6,
     "metadata": {},
     "output_type": "execute_result"
    }
   ],
   "source": [
    "re.findall(pattern_for_email,text) #all required email"
   ]
  },
  {
   "cell_type": "code",
   "execution_count": 7,
   "id": "c2e8f689",
   "metadata": {},
   "outputs": [],
   "source": [
    "pattern_for_website='[a-z]+\\.[a-z]+'"
   ]
  },
  {
   "cell_type": "code",
   "execution_count": 8,
   "id": "2a54bef5",
   "metadata": {},
   "outputs": [
    {
     "data": {
      "text/plain": [
       "['abcxyz.com', 'gmail.com', 'gmail.com']"
      ]
     },
     "execution_count": 8,
     "metadata": {},
     "output_type": "execute_result"
    }
   ],
   "source": [
    "re.findall(pattern_for_website,text) #all required website"
   ]
  },
  {
   "cell_type": "code",
   "execution_count": null,
   "id": "c615b537",
   "metadata": {},
   "outputs": [],
   "source": [
    "    PRACTICE QUESTION :"
   ]
  },
  {
   "cell_type": "code",
   "execution_count": 9,
   "id": "d0e48a95",
   "metadata": {},
   "outputs": [],
   "source": [
    "customer=\"order ID is 123456789 and the order number is 123456789 my order # 123456789\"\n",
    "pattern='order [^\\d]+ (\\d+)'"
   ]
  },
  {
   "cell_type": "code",
   "execution_count": 10,
   "id": "87f46aee",
   "metadata": {},
   "outputs": [
    {
     "data": {
      "text/plain": [
       "['123456789', '123456789', '123456789']"
      ]
     },
     "execution_count": 10,
     "metadata": {},
     "output_type": "execute_result"
    }
   ],
   "source": [
    "re.findall(pattern,customer) #get only order id"
   ]
  },
  {
   "cell_type": "code",
   "execution_count": null,
   "id": "66ddbcc6",
   "metadata": {},
   "outputs": [],
   "source": []
  }
 ],
 "metadata": {
  "kernelspec": {
   "display_name": "Python 3 (ipykernel)",
   "language": "python",
   "name": "python3"
  },
  "language_info": {
   "codemirror_mode": {
    "name": "ipython",
    "version": 3
   },
   "file_extension": ".py",
   "mimetype": "text/x-python",
   "name": "python",
   "nbconvert_exporter": "python",
   "pygments_lexer": "ipython3",
   "version": "3.11.4"
  }
 },
 "nbformat": 4,
 "nbformat_minor": 5
}
